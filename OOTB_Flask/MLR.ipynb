{
 "cells": [
  {
   "cell_type": "code",
   "execution_count": 6,
   "id": "0a0f97b3-97c3-4b03-a7fe-e2b2f6a22774",
   "metadata": {
    "scrolled": true
   },
   "outputs": [
    {
     "name": "stdout",
     "output_type": "stream",
     "text": [
      "Collecting flask-cors\n",
      "  Using cached Flask_Cors-4.0.1-py2.py3-none-any.whl.metadata (5.5 kB)\n",
      "Requirement already satisfied: Flask>=0.9 in c:\\users\\chxss\\anaconda3\\envs\\flask\\lib\\site-packages (from flask-cors) (3.0.3)\n",
      "Requirement already satisfied: Werkzeug>=3.0.0 in c:\\users\\chxss\\anaconda3\\envs\\flask\\lib\\site-packages (from Flask>=0.9->flask-cors) (3.0.3)\n",
      "Requirement already satisfied: Jinja2>=3.1.2 in c:\\users\\chxss\\anaconda3\\envs\\flask\\lib\\site-packages (from Flask>=0.9->flask-cors) (3.1.4)\n",
      "Requirement already satisfied: itsdangerous>=2.1.2 in c:\\users\\chxss\\anaconda3\\envs\\flask\\lib\\site-packages (from Flask>=0.9->flask-cors) (2.2.0)\n",
      "Requirement already satisfied: click>=8.1.3 in c:\\users\\chxss\\anaconda3\\envs\\flask\\lib\\site-packages (from Flask>=0.9->flask-cors) (8.1.7)\n",
      "Requirement already satisfied: blinker>=1.6.2 in c:\\users\\chxss\\anaconda3\\envs\\flask\\lib\\site-packages (from Flask>=0.9->flask-cors) (1.8.2)\n",
      "Requirement already satisfied: importlib-metadata>=3.6.0 in c:\\users\\chxss\\anaconda3\\envs\\flask\\lib\\site-packages (from Flask>=0.9->flask-cors) (8.0.0)\n",
      "Requirement already satisfied: colorama in c:\\users\\chxss\\anaconda3\\envs\\flask\\lib\\site-packages (from click>=8.1.3->Flask>=0.9->flask-cors) (0.4.6)\n",
      "Requirement already satisfied: zipp>=0.5 in c:\\users\\chxss\\anaconda3\\envs\\flask\\lib\\site-packages (from importlib-metadata>=3.6.0->Flask>=0.9->flask-cors) (3.19.2)\n",
      "Requirement already satisfied: MarkupSafe>=2.0 in c:\\users\\chxss\\anaconda3\\envs\\flask\\lib\\site-packages (from Jinja2>=3.1.2->Flask>=0.9->flask-cors) (2.1.5)\n",
      "Using cached Flask_Cors-4.0.1-py2.py3-none-any.whl (14 kB)\n",
      "Installing collected packages: flask-cors\n",
      "Successfully installed flask-cors-4.0.1\n",
      "Note: you may need to restart the kernel to use updated packages.\n"
     ]
    }
   ],
   "source": [
    "pip install flask-cors"
   ]
  },
  {
   "cell_type": "code",
   "execution_count": 3,
   "id": "b7288218-b466-49cd-819c-f953319254a6",
   "metadata": {},
   "outputs": [
    {
     "data": {
      "text/plain": [
       "['multivariate_linear_regression_model.pkl']"
      ]
     },
     "execution_count": 3,
     "metadata": {},
     "output_type": "execute_result"
    }
   ],
   "source": [
    "import pandas as pd\n",
    "from sklearn.linear_model import LinearRegression\n",
    "import joblib\n",
    "import sqlite3\n",
    "\n",
    "df = pd.read_excel(\"./최종데이터.xlsx\")\n",
    "\n",
    "df = df/100\n",
    "\n",
    "X_cols = ['height', 'weight']  # 독립 변수들\n",
    "Y_cols = ['chest', 'waist', 'hem', 'thigh', 'shoulder', 'arm', 'top', 'bottom']  # 종속 변수들\n",
    "\n",
    "X = df[X_cols]  # 독립 변수 데이터\n",
    "Y = df[Y_cols]  # 종속 변수 데이터\n",
    "\n",
    "# 다변량 선형 회귀 모델 정의 및 학습\n",
    "model = LinearRegression()\n",
    "model.fit(X, Y)\n",
    "\n",
    "# 학습한 모델 저장\n",
    "joblib.dump(model, 'multivariate_linear_regression_model.pkl')"
   ]
  },
  {
   "cell_type": "code",
   "execution_count": 2,
   "id": "b75f8e28",
   "metadata": {},
   "outputs": [
    {
     "name": "stdout",
     "output_type": "stream",
     "text": [
      "Collecting pandas\n",
      "  Downloading pandas-2.2.2-cp39-cp39-win_amd64.whl.metadata (19 kB)\n",
      "Requirement already satisfied: numpy>=1.22.4 in c:\\users\\chxss\\anaconda3\\envs\\flask\\lib\\site-packages (from pandas) (1.26.4)\n",
      "Requirement already satisfied: python-dateutil>=2.8.2 in c:\\users\\chxss\\anaconda3\\envs\\flask\\lib\\site-packages (from pandas) (2.9.0)\n",
      "Collecting pytz>=2020.1 (from pandas)\n",
      "  Using cached pytz-2024.1-py2.py3-none-any.whl.metadata (22 kB)\n",
      "Collecting tzdata>=2022.7 (from pandas)\n",
      "  Using cached tzdata-2024.1-py2.py3-none-any.whl.metadata (1.4 kB)\n",
      "Requirement already satisfied: six>=1.5 in c:\\users\\chxss\\anaconda3\\envs\\flask\\lib\\site-packages (from python-dateutil>=2.8.2->pandas) (1.16.0)\n",
      "Downloading pandas-2.2.2-cp39-cp39-win_amd64.whl (11.6 MB)\n",
      "   ---------------------------------------- 0.0/11.6 MB ? eta -:--:--\n",
      "   ---------------------------------------- 0.0/11.6 MB 991.0 kB/s eta 0:00:12\n",
      "   - -------------------------------------- 0.6/11.6 MB 7.2 MB/s eta 0:00:02\n",
      "   ---- ----------------------------------- 1.3/11.6 MB 10.2 MB/s eta 0:00:02\n",
      "   ----- ---------------------------------- 1.6/11.6 MB 9.2 MB/s eta 0:00:02\n",
      "   --------- ------------------------------ 2.8/11.6 MB 12.7 MB/s eta 0:00:01\n",
      "   ------------------ --------------------- 5.4/11.6 MB 20.4 MB/s eta 0:00:01\n",
      "   ------------------- -------------------- 5.8/11.6 MB 18.5 MB/s eta 0:00:01\n",
      "   ---------------------- ----------------- 6.6/11.6 MB 18.4 MB/s eta 0:00:01\n",
      "   --------------------------------- ------ 9.9/11.6 MB 24.3 MB/s eta 0:00:01\n",
      "   ---------------------------------------  11.6/11.6 MB 34.4 MB/s eta 0:00:01\n",
      "   ---------------------------------------- 11.6/11.6 MB 32.8 MB/s eta 0:00:00\n",
      "Using cached pytz-2024.1-py2.py3-none-any.whl (505 kB)\n",
      "Using cached tzdata-2024.1-py2.py3-none-any.whl (345 kB)\n",
      "Installing collected packages: pytz, tzdata, pandas\n",
      "Successfully installed pandas-2.2.2 pytz-2024.1 tzdata-2024.1\n",
      "Note: you may need to restart the kernel to use updated packages.\n"
     ]
    }
   ],
   "source": [
    "pip install pandas"
   ]
  },
  {
   "cell_type": "code",
   "execution_count": 4,
   "id": "e4acaeed",
   "metadata": {},
   "outputs": [
    {
     "name": "stdout",
     "output_type": "stream",
     "text": [
      "Collecting joblib\n",
      "  Using cached joblib-1.4.2-py3-none-any.whl.metadata (5.4 kB)\n",
      "Using cached joblib-1.4.2-py3-none-any.whl (301 kB)\n",
      "Installing collected packages: joblib\n",
      "Successfully installed joblib-1.4.2\n",
      "Note: you may need to restart the kernel to use updated packages.\n"
     ]
    }
   ],
   "source": [
    "pip install joblib"
   ]
  },
  {
   "cell_type": "code",
   "execution_count": 8,
   "id": "fa5d124f",
   "metadata": {},
   "outputs": [
    {
     "name": "stdout",
     "output_type": "stream",
     "text": [
      "Collecting scikit-learn\n",
      "  Downloading scikit_learn-1.5.1-cp39-cp39-win_amd64.whl.metadata (12 kB)\n",
      "Requirement already satisfied: numpy>=1.19.5 in c:\\users\\chxss\\anaconda3\\envs\\flask\\lib\\site-packages (from scikit-learn) (1.26.4)\n",
      "Collecting scipy>=1.6.0 (from scikit-learn)\n",
      "  Downloading scipy-1.13.1-cp39-cp39-win_amd64.whl.metadata (60 kB)\n",
      "     ---------------------------------------- 0.0/60.6 kB ? eta -:--:--\n",
      "     --------------------------------- ------ 51.2/60.6 kB 1.3 MB/s eta 0:00:01\n",
      "     ---------------------------------------- 60.6/60.6 kB 1.1 MB/s eta 0:00:00\n",
      "Requirement already satisfied: joblib>=1.2.0 in c:\\users\\chxss\\anaconda3\\envs\\flask\\lib\\site-packages (from scikit-learn) (1.4.2)\n",
      "Collecting threadpoolctl>=3.1.0 (from scikit-learn)\n",
      "  Using cached threadpoolctl-3.5.0-py3-none-any.whl.metadata (13 kB)\n",
      "Downloading scikit_learn-1.5.1-cp39-cp39-win_amd64.whl (11.0 MB)\n",
      "   ---------------------------------------- 0.0/11.0 MB ? eta -:--:--\n",
      "   - -------------------------------------- 0.5/11.0 MB 14.2 MB/s eta 0:00:01\n",
      "   ------ --------------------------------- 1.9/11.0 MB 24.0 MB/s eta 0:00:01\n",
      "   --------------- ------------------------ 4.3/11.0 MB 34.5 MB/s eta 0:00:01\n",
      "   ------------------- -------------------- 5.4/11.0 MB 34.7 MB/s eta 0:00:01\n",
      "   ------------------- -------------------- 5.4/11.0 MB 26.8 MB/s eta 0:00:01\n",
      "   -------------------- ------------------- 5.5/11.0 MB 22.1 MB/s eta 0:00:01\n",
      "   -------------------- ------------------- 5.7/11.0 MB 19.1 MB/s eta 0:00:01\n",
      "   --------------------- ------------------ 5.9/11.0 MB 16.5 MB/s eta 0:00:01\n",
      "   ---------------------- ----------------- 6.2/11.0 MB 15.4 MB/s eta 0:00:01\n",
      "   ------------------------------ --------- 8.3/11.0 MB 18.3 MB/s eta 0:00:01\n",
      "   ----------------------------------- ---- 9.8/11.0 MB 20.1 MB/s eta 0:00:01\n",
      "   ---------------------------------------  11.0/11.0 MB 21.8 MB/s eta 0:00:01\n",
      "   ---------------------------------------- 11.0/11.0 MB 20.5 MB/s eta 0:00:00\n",
      "Downloading scipy-1.13.1-cp39-cp39-win_amd64.whl (46.2 MB)\n",
      "   ---------------------------------------- 0.0/46.2 MB ? eta -:--:--\n",
      "   -- ------------------------------------- 2.5/46.2 MB 52.1 MB/s eta 0:00:01\n",
      "   --- ------------------------------------ 4.4/46.2 MB 47.0 MB/s eta 0:00:01\n",
      "   ---- ----------------------------------- 5.1/46.2 MB 41.0 MB/s eta 0:00:02\n",
      "   ------ --------------------------------- 7.2/46.2 MB 38.7 MB/s eta 0:00:02\n",
      "   -------- ------------------------------- 9.8/46.2 MB 44.8 MB/s eta 0:00:01\n",
      "   ---------- ----------------------------- 11.7/46.2 MB 40.9 MB/s eta 0:00:01\n",
      "   ---------- ----------------------------- 11.7/46.2 MB 36.3 MB/s eta 0:00:01\n",
      "   ---------- ----------------------------- 11.8/46.2 MB 31.2 MB/s eta 0:00:02\n",
      "   ---------- ----------------------------- 12.0/46.2 MB 26.2 MB/s eta 0:00:02\n",
      "   ---------- ----------------------------- 12.1/46.2 MB 24.2 MB/s eta 0:00:02\n",
      "   ----------- ---------------------------- 12.8/46.2 MB 22.6 MB/s eta 0:00:02\n",
      "   ----------- ---------------------------- 13.3/46.2 MB 21.8 MB/s eta 0:00:02\n",
      "   -------------- ------------------------- 16.5/46.2 MB 22.6 MB/s eta 0:00:02\n",
      "   ---------------- ----------------------- 18.6/46.2 MB 23.4 MB/s eta 0:00:02\n",
      "   ----------------- ---------------------- 20.7/46.2 MB 22.6 MB/s eta 0:00:02\n",
      "   ------------------- -------------------- 22.5/46.2 MB 43.7 MB/s eta 0:00:01\n",
      "   -------------------- ------------------- 23.7/46.2 MB 46.7 MB/s eta 0:00:01\n",
      "   ---------------------- ----------------- 25.8/46.2 MB 40.9 MB/s eta 0:00:01\n",
      "   ----------------------- ---------------- 27.4/46.2 MB 43.7 MB/s eta 0:00:01\n",
      "   ----------------------- ---------------- 27.6/46.2 MB 34.4 MB/s eta 0:00:01\n",
      "   ------------------------ --------------- 27.8/46.2 MB 29.8 MB/s eta 0:00:01\n",
      "   ------------------------ --------------- 28.3/46.2 MB 27.3 MB/s eta 0:00:01\n",
      "   -------------------------- ------------- 30.2/46.2 MB 27.3 MB/s eta 0:00:01\n",
      "   --------------------------- ------------ 31.4/46.2 MB 26.2 MB/s eta 0:00:01\n",
      "   ---------------------------- ----------- 32.9/46.2 MB 26.2 MB/s eta 0:00:01\n",
      "   ---------------------------- ----------- 33.2/46.2 MB 23.4 MB/s eta 0:00:01\n",
      "   ----------------------------- ---------- 33.8/46.2 MB 21.1 MB/s eta 0:00:01\n",
      "   ------------------------------ --------- 35.8/46.2 MB 21.8 MB/s eta 0:00:01\n",
      "   -------------------------------- ------- 37.9/46.2 MB 25.2 MB/s eta 0:00:01\n",
      "   -------------------------------- ------- 38.0/46.2 MB 25.1 MB/s eta 0:00:01\n",
      "   -------------------------------- ------- 38.1/46.2 MB 22.6 MB/s eta 0:00:01\n",
      "   --------------------------------- ------ 38.2/46.2 MB 21.9 MB/s eta 0:00:01\n",
      "   --------------------------------- ------ 38.6/46.2 MB 20.5 MB/s eta 0:00:01\n",
      "   ----------------------------------- ---- 40.5/46.2 MB 20.5 MB/s eta 0:00:01\n",
      "   ------------------------------------- -- 43.2/46.2 MB 23.4 MB/s eta 0:00:01\n",
      "   ------------------------------------- -- 43.6/46.2 MB 22.5 MB/s eta 0:00:01\n",
      "   -------------------------------------- - 44.3/46.2 MB 22.6 MB/s eta 0:00:01\n",
      "   ---------------------------------------  46.2/46.2 MB 22.6 MB/s eta 0:00:01\n",
      "   ---------------------------------------  46.2/46.2 MB 22.6 MB/s eta 0:00:01\n",
      "   ---------------------------------------- 46.2/46.2 MB 19.9 MB/s eta 0:00:00\n",
      "Using cached threadpoolctl-3.5.0-py3-none-any.whl (18 kB)\n",
      "Installing collected packages: threadpoolctl, scipy, scikit-learn\n",
      "Successfully installed scikit-learn-1.5.1 scipy-1.13.1 threadpoolctl-3.5.0\n",
      "Note: you may need to restart the kernel to use updated packages.\n"
     ]
    }
   ],
   "source": [
    "pip install scikit-learn"
   ]
  },
  {
   "cell_type": "code",
   "execution_count": 2,
   "id": "ce56d8e6-a2d6-4824-ba82-2a934879216f",
   "metadata": {},
   "outputs": [
    {
     "name": "stdout",
     "output_type": "stream",
     "text": [
      "LinearRegression()\n",
      " * Serving Flask app '__main__'\n",
      " * Debug mode: off\n"
     ]
    },
    {
     "name": "stderr",
     "output_type": "stream",
     "text": [
      "c:\\Users\\chxss\\anaconda3\\envs\\flask\\lib\\site-packages\\sklearn\\base.py:376: InconsistentVersionWarning: Trying to unpickle estimator LinearRegression from version 1.2.2 when using version 1.5.1. This might lead to breaking code or invalid results. Use at your own risk. For more info please refer to:\n",
      "https://scikit-learn.org/stable/model_persistence.html#security-maintainability-limitations\n",
      "  warnings.warn(\n",
      "WARNING: This is a development server. Do not use it in a production deployment. Use a production WSGI server instead.\n",
      " * Running on http://127.0.0.1:5000\n",
      "Press CTRL+C to quit\n",
      "127.0.0.1 - - [01/Aug/2024 17:38:32] \"OPTIONS /predict HTTP/1.1\" 200 -\n",
      "127.0.0.1 - - [01/Aug/2024 17:38:32] \"POST /predict HTTP/1.1\" 200 -\n"
     ]
    },
    {
     "name": "stdout",
     "output_type": "stream",
     "text": [
      "<class 'pandas.core.frame.DataFrame'>\n",
      "   weight  height\n",
      "0     0.6     1.7\n",
      "[[0.29512816 0.26873518 0.05559285 0.17377619 0.43317143 0.57049048\n",
      "  0.40854703 0.96028619]]\n",
      "{'chest': 30, 'waist': 27, 'hem': 6, 'thigh': 17, 'shoulder': 43, 'arm': 57, 'top': 41, 'bottom': 96}\n",
      "<Response 87 bytes [200 OK]>\n"
     ]
    },
    {
     "name": "stderr",
     "output_type": "stream",
     "text": [
      "127.0.0.1 - - [01/Aug/2024 17:38:38] \"OPTIONS /predict HTTP/1.1\" 200 -\n",
      "127.0.0.1 - - [01/Aug/2024 17:38:39] \"POST /predict HTTP/1.1\" 200 -\n"
     ]
    },
    {
     "name": "stdout",
     "output_type": "stream",
     "text": [
      "<class 'pandas.core.frame.DataFrame'>\n",
      "   weight  height\n",
      "0     0.6     1.7\n",
      "[[0.29512816 0.26873518 0.05559285 0.17377619 0.43317143 0.57049048\n",
      "  0.40854703 0.96028619]]\n",
      "{'chest': 30, 'waist': 27, 'hem': 6, 'thigh': 17, 'shoulder': 43, 'arm': 57, 'top': 41, 'bottom': 96}\n",
      "<Response 87 bytes [200 OK]>\n"
     ]
    },
    {
     "name": "stderr",
     "output_type": "stream",
     "text": [
      "127.0.0.1 - - [01/Aug/2024 17:53:24] \"OPTIONS /predict HTTP/1.1\" 200 -\n",
      "127.0.0.1 - - [01/Aug/2024 17:53:24] \"POST /predict HTTP/1.1\" 200 -\n"
     ]
    },
    {
     "name": "stdout",
     "output_type": "stream",
     "text": [
      "<class 'pandas.core.frame.DataFrame'>\n",
      "   weight  height\n",
      "0     0.6     1.7\n",
      "[[0.29512816 0.26873518 0.05559285 0.17377619 0.43317143 0.57049048\n",
      "  0.40854703 0.96028619]]\n",
      "{'chest': 30, 'waist': 27, 'hem': 6, 'thigh': 17, 'shoulder': 43, 'arm': 57, 'top': 41, 'bottom': 96}\n",
      "<Response 87 bytes [200 OK]>\n"
     ]
    },
    {
     "name": "stderr",
     "output_type": "stream",
     "text": [
      "127.0.0.1 - - [01/Aug/2024 18:02:25] \"OPTIONS /predict HTTP/1.1\" 200 -\n",
      "127.0.0.1 - - [01/Aug/2024 18:02:25] \"POST /predict HTTP/1.1\" 200 -\n"
     ]
    },
    {
     "name": "stdout",
     "output_type": "stream",
     "text": [
      "<class 'pandas.core.frame.DataFrame'>\n",
      "   weight  height\n",
      "0     0.6     1.7\n",
      "[[0.29512816 0.26873518 0.05559285 0.17377619 0.43317143 0.57049048\n",
      "  0.40854703 0.96028619]]\n",
      "{'chest': 30, 'waist': 27, 'hem': 6, 'thigh': 17, 'shoulder': 43, 'arm': 57, 'top': 41, 'bottom': 96}\n",
      "<Response 87 bytes [200 OK]>\n"
     ]
    },
    {
     "name": "stderr",
     "output_type": "stream",
     "text": [
      "127.0.0.1 - - [01/Aug/2024 19:48:37] \"OPTIONS /predict HTTP/1.1\" 200 -\n",
      "127.0.0.1 - - [01/Aug/2024 19:48:38] \"POST /predict HTTP/1.1\" 200 -\n"
     ]
    },
    {
     "name": "stdout",
     "output_type": "stream",
     "text": [
      "<class 'pandas.core.frame.DataFrame'>\n",
      "   weight  height\n",
      "0     0.6     1.7\n",
      "[[0.29512816 0.26873518 0.05559285 0.17377619 0.43317143 0.57049048\n",
      "  0.40854703 0.96028619]]\n",
      "{'chest': 30, 'waist': 27, 'hem': 6, 'thigh': 17, 'shoulder': 43, 'arm': 57, 'top': 41, 'bottom': 96}\n",
      "<Response 87 bytes [200 OK]>\n"
     ]
    },
    {
     "name": "stderr",
     "output_type": "stream",
     "text": [
      "127.0.0.1 - - [01/Aug/2024 19:48:55] \"OPTIONS /predict HTTP/1.1\" 200 -\n",
      "127.0.0.1 - - [01/Aug/2024 19:48:56] \"POST /predict HTTP/1.1\" 200 -\n"
     ]
    },
    {
     "name": "stdout",
     "output_type": "stream",
     "text": [
      "<class 'pandas.core.frame.DataFrame'>\n",
      "   weight  height\n",
      "0     0.6     1.7\n",
      "[[0.29512816 0.26873518 0.05559285 0.17377619 0.43317143 0.57049048\n",
      "  0.40854703 0.96028619]]\n",
      "{'chest': 30, 'waist': 27, 'hem': 6, 'thigh': 17, 'shoulder': 43, 'arm': 57, 'top': 41, 'bottom': 96}\n",
      "<Response 87 bytes [200 OK]>\n"
     ]
    },
    {
     "name": "stderr",
     "output_type": "stream",
     "text": [
      "127.0.0.1 - - [01/Aug/2024 19:48:58] \"POST /predict HTTP/1.1\" 200 -\n"
     ]
    },
    {
     "name": "stdout",
     "output_type": "stream",
     "text": [
      "<class 'pandas.core.frame.DataFrame'>\n",
      "   weight  height\n",
      "0     0.6     1.7\n",
      "[[0.29512816 0.26873518 0.05559285 0.17377619 0.43317143 0.57049048\n",
      "  0.40854703 0.96028619]]\n",
      "{'chest': 30, 'waist': 27, 'hem': 6, 'thigh': 17, 'shoulder': 43, 'arm': 57, 'top': 41, 'bottom': 96}\n",
      "<Response 87 bytes [200 OK]>\n"
     ]
    },
    {
     "name": "stderr",
     "output_type": "stream",
     "text": [
      "127.0.0.1 - - [01/Aug/2024 19:48:59] \"POST /predict HTTP/1.1\" 200 -\n"
     ]
    },
    {
     "name": "stdout",
     "output_type": "stream",
     "text": [
      "<class 'pandas.core.frame.DataFrame'>\n",
      "   weight  height\n",
      "0     0.6     1.7\n",
      "[[0.29512816 0.26873518 0.05559285 0.17377619 0.43317143 0.57049048\n",
      "  0.40854703 0.96028619]]\n",
      "{'chest': 30, 'waist': 27, 'hem': 6, 'thigh': 17, 'shoulder': 43, 'arm': 57, 'top': 41, 'bottom': 96}\n",
      "<Response 87 bytes [200 OK]>\n"
     ]
    },
    {
     "name": "stderr",
     "output_type": "stream",
     "text": [
      "127.0.0.1 - - [01/Aug/2024 19:49:04] \"OPTIONS /predict HTTP/1.1\" 200 -\n",
      "127.0.0.1 - - [01/Aug/2024 19:49:04] \"POST /predict HTTP/1.1\" 200 -\n"
     ]
    },
    {
     "name": "stdout",
     "output_type": "stream",
     "text": [
      "<class 'pandas.core.frame.DataFrame'>\n",
      "   weight  height\n",
      "0     0.6     1.7\n",
      "[[0.29512816 0.26873518 0.05559285 0.17377619 0.43317143 0.57049048\n",
      "  0.40854703 0.96028619]]\n",
      "{'chest': 30, 'waist': 27, 'hem': 6, 'thigh': 17, 'shoulder': 43, 'arm': 57, 'top': 41, 'bottom': 96}\n",
      "<Response 87 bytes [200 OK]>\n"
     ]
    },
    {
     "name": "stderr",
     "output_type": "stream",
     "text": [
      "127.0.0.1 - - [01/Aug/2024 19:49:08] \"POST /predict HTTP/1.1\" 200 -\n"
     ]
    },
    {
     "name": "stdout",
     "output_type": "stream",
     "text": [
      "<class 'pandas.core.frame.DataFrame'>\n",
      "   weight  height\n",
      "0     0.6     1.7\n",
      "[[0.29512816 0.26873518 0.05559285 0.17377619 0.43317143 0.57049048\n",
      "  0.40854703 0.96028619]]\n",
      "{'chest': 30, 'waist': 27, 'hem': 6, 'thigh': 17, 'shoulder': 43, 'arm': 57, 'top': 41, 'bottom': 96}\n",
      "<Response 87 bytes [200 OK]>\n"
     ]
    },
    {
     "name": "stderr",
     "output_type": "stream",
     "text": [
      "127.0.0.1 - - [01/Aug/2024 19:49:29] \"OPTIONS /predict HTTP/1.1\" 200 -\n",
      "127.0.0.1 - - [01/Aug/2024 19:49:30] \"POST /predict HTTP/1.1\" 200 -\n"
     ]
    },
    {
     "name": "stdout",
     "output_type": "stream",
     "text": [
      "<class 'pandas.core.frame.DataFrame'>\n",
      "   weight  height\n",
      "0     0.6     1.7\n",
      "[[0.29512816 0.26873518 0.05559285 0.17377619 0.43317143 0.57049048\n",
      "  0.40854703 0.96028619]]\n",
      "{'chest': 30, 'waist': 27, 'hem': 6, 'thigh': 17, 'shoulder': 43, 'arm': 57, 'top': 41, 'bottom': 96}\n",
      "<Response 87 bytes [200 OK]>\n"
     ]
    },
    {
     "name": "stderr",
     "output_type": "stream",
     "text": [
      "127.0.0.1 - - [01/Aug/2024 19:49:33] \"POST /predict HTTP/1.1\" 200 -\n"
     ]
    },
    {
     "name": "stdout",
     "output_type": "stream",
     "text": [
      "<class 'pandas.core.frame.DataFrame'>\n",
      "   weight  height\n",
      "0     0.6     1.7\n",
      "[[0.29512816 0.26873518 0.05559285 0.17377619 0.43317143 0.57049048\n",
      "  0.40854703 0.96028619]]\n",
      "{'chest': 30, 'waist': 27, 'hem': 6, 'thigh': 17, 'shoulder': 43, 'arm': 57, 'top': 41, 'bottom': 96}\n",
      "<Response 87 bytes [200 OK]>\n"
     ]
    },
    {
     "name": "stderr",
     "output_type": "stream",
     "text": [
      "127.0.0.1 - - [01/Aug/2024 19:50:09] \"OPTIONS /predict HTTP/1.1\" 200 -\n",
      "127.0.0.1 - - [01/Aug/2024 19:50:10] \"POST /predict HTTP/1.1\" 200 -\n"
     ]
    },
    {
     "name": "stdout",
     "output_type": "stream",
     "text": [
      "<class 'pandas.core.frame.DataFrame'>\n",
      "   weight  height\n",
      "0     0.6     1.7\n",
      "[[0.29512816 0.26873518 0.05559285 0.17377619 0.43317143 0.57049048\n",
      "  0.40854703 0.96028619]]\n",
      "{'chest': 30, 'waist': 27, 'hem': 6, 'thigh': 17, 'shoulder': 43, 'arm': 57, 'top': 41, 'bottom': 96}\n",
      "<Response 87 bytes [200 OK]>\n"
     ]
    },
    {
     "name": "stderr",
     "output_type": "stream",
     "text": [
      "127.0.0.1 - - [01/Aug/2024 19:50:15] \"OPTIONS /predict HTTP/1.1\" 200 -\n",
      "127.0.0.1 - - [01/Aug/2024 19:50:15] \"POST /predict HTTP/1.1\" 200 -\n"
     ]
    },
    {
     "name": "stdout",
     "output_type": "stream",
     "text": [
      "<class 'pandas.core.frame.DataFrame'>\n",
      "   weight  height\n",
      "0     0.6     1.7\n",
      "[[0.29512816 0.26873518 0.05559285 0.17377619 0.43317143 0.57049048\n",
      "  0.40854703 0.96028619]]\n",
      "{'chest': 30, 'waist': 27, 'hem': 6, 'thigh': 17, 'shoulder': 43, 'arm': 57, 'top': 41, 'bottom': 96}\n",
      "<Response 87 bytes [200 OK]>\n"
     ]
    },
    {
     "name": "stderr",
     "output_type": "stream",
     "text": [
      "127.0.0.1 - - [01/Aug/2024 19:50:16] \"POST /predict HTTP/1.1\" 200 -\n"
     ]
    },
    {
     "name": "stdout",
     "output_type": "stream",
     "text": [
      "<class 'pandas.core.frame.DataFrame'>\n",
      "   weight  height\n",
      "0     0.6     1.7\n",
      "[[0.29512816 0.26873518 0.05559285 0.17377619 0.43317143 0.57049048\n",
      "  0.40854703 0.96028619]]\n",
      "{'chest': 30, 'waist': 27, 'hem': 6, 'thigh': 17, 'shoulder': 43, 'arm': 57, 'top': 41, 'bottom': 96}\n",
      "<Response 87 bytes [200 OK]>\n"
     ]
    },
    {
     "name": "stderr",
     "output_type": "stream",
     "text": [
      "127.0.0.1 - - [01/Aug/2024 19:53:41] \"OPTIONS /predict HTTP/1.1\" 200 -\n",
      "127.0.0.1 - - [01/Aug/2024 19:53:41] \"POST /predict HTTP/1.1\" 200 -\n"
     ]
    },
    {
     "name": "stdout",
     "output_type": "stream",
     "text": [
      "<class 'pandas.core.frame.DataFrame'>\n",
      "   weight  height\n",
      "0     0.6     1.7\n",
      "[[0.29512816 0.26873518 0.05559285 0.17377619 0.43317143 0.57049048\n",
      "  0.40854703 0.96028619]]\n",
      "{'chest': 30, 'waist': 27, 'hem': 6, 'thigh': 17, 'shoulder': 43, 'arm': 57, 'top': 41, 'bottom': 96}\n",
      "<Response 87 bytes [200 OK]>\n"
     ]
    },
    {
     "name": "stderr",
     "output_type": "stream",
     "text": [
      "127.0.0.1 - - [01/Aug/2024 19:53:47] \"OPTIONS /predict HTTP/1.1\" 200 -\n",
      "127.0.0.1 - - [01/Aug/2024 19:53:47] \"POST /predict HTTP/1.1\" 200 -\n"
     ]
    },
    {
     "name": "stdout",
     "output_type": "stream",
     "text": [
      "<class 'pandas.core.frame.DataFrame'>\n",
      "   weight  height\n",
      "0     0.6     1.7\n",
      "[[0.29512816 0.26873518 0.05559285 0.17377619 0.43317143 0.57049048\n",
      "  0.40854703 0.96028619]]\n",
      "{'chest': 30, 'waist': 27, 'hem': 6, 'thigh': 17, 'shoulder': 43, 'arm': 57, 'top': 41, 'bottom': 96}\n",
      "<Response 87 bytes [200 OK]>\n"
     ]
    },
    {
     "name": "stderr",
     "output_type": "stream",
     "text": [
      "127.0.0.1 - - [01/Aug/2024 19:53:54] \"OPTIONS /predict HTTP/1.1\" 200 -\n",
      "127.0.0.1 - - [01/Aug/2024 19:53:55] \"POST /predict HTTP/1.1\" 200 -\n"
     ]
    },
    {
     "name": "stdout",
     "output_type": "stream",
     "text": [
      "<class 'pandas.core.frame.DataFrame'>\n",
      "   weight  height\n",
      "0     0.6     1.7\n",
      "[[0.29512816 0.26873518 0.05559285 0.17377619 0.43317143 0.57049048\n",
      "  0.40854703 0.96028619]]\n",
      "{'chest': 30, 'waist': 27, 'hem': 6, 'thigh': 17, 'shoulder': 43, 'arm': 57, 'top': 41, 'bottom': 96}\n",
      "<Response 87 bytes [200 OK]>\n"
     ]
    },
    {
     "name": "stderr",
     "output_type": "stream",
     "text": [
      "127.0.0.1 - - [01/Aug/2024 19:53:58] \"POST /predict HTTP/1.1\" 200 -\n"
     ]
    },
    {
     "name": "stdout",
     "output_type": "stream",
     "text": [
      "<class 'pandas.core.frame.DataFrame'>\n",
      "   weight  height\n",
      "0     0.6     1.7\n",
      "[[0.29512816 0.26873518 0.05559285 0.17377619 0.43317143 0.57049048\n",
      "  0.40854703 0.96028619]]\n",
      "{'chest': 30, 'waist': 27, 'hem': 6, 'thigh': 17, 'shoulder': 43, 'arm': 57, 'top': 41, 'bottom': 96}\n",
      "<Response 87 bytes [200 OK]>\n"
     ]
    },
    {
     "name": "stderr",
     "output_type": "stream",
     "text": [
      "127.0.0.1 - - [01/Aug/2024 19:54:07] \"OPTIONS /predict HTTP/1.1\" 200 -\n",
      "127.0.0.1 - - [01/Aug/2024 19:54:07] \"POST /predict HTTP/1.1\" 200 -\n"
     ]
    },
    {
     "name": "stdout",
     "output_type": "stream",
     "text": [
      "<class 'pandas.core.frame.DataFrame'>\n",
      "   weight  height\n",
      "0     0.6     1.7\n",
      "[[0.29512816 0.26873518 0.05559285 0.17377619 0.43317143 0.57049048\n",
      "  0.40854703 0.96028619]]\n",
      "{'chest': 30, 'waist': 27, 'hem': 6, 'thigh': 17, 'shoulder': 43, 'arm': 57, 'top': 41, 'bottom': 96}\n",
      "<Response 87 bytes [200 OK]>\n"
     ]
    },
    {
     "name": "stderr",
     "output_type": "stream",
     "text": [
      "127.0.0.1 - - [01/Aug/2024 19:54:08] \"POST /predict HTTP/1.1\" 200 -\n"
     ]
    },
    {
     "name": "stdout",
     "output_type": "stream",
     "text": [
      "<class 'pandas.core.frame.DataFrame'>\n",
      "   weight  height\n",
      "0     0.6     1.7\n",
      "[[0.29512816 0.26873518 0.05559285 0.17377619 0.43317143 0.57049048\n",
      "  0.40854703 0.96028619]]\n",
      "{'chest': 30, 'waist': 27, 'hem': 6, 'thigh': 17, 'shoulder': 43, 'arm': 57, 'top': 41, 'bottom': 96}\n",
      "<Response 87 bytes [200 OK]>\n"
     ]
    },
    {
     "name": "stderr",
     "output_type": "stream",
     "text": [
      "127.0.0.1 - - [01/Aug/2024 19:54:09] \"POST /predict HTTP/1.1\" 200 -\n"
     ]
    },
    {
     "name": "stdout",
     "output_type": "stream",
     "text": [
      "<class 'pandas.core.frame.DataFrame'>\n",
      "   weight  height\n",
      "0     0.6     1.7\n",
      "[[0.29512816 0.26873518 0.05559285 0.17377619 0.43317143 0.57049048\n",
      "  0.40854703 0.96028619]]\n",
      "{'chest': 30, 'waist': 27, 'hem': 6, 'thigh': 17, 'shoulder': 43, 'arm': 57, 'top': 41, 'bottom': 96}\n",
      "<Response 87 bytes [200 OK]>\n"
     ]
    },
    {
     "name": "stderr",
     "output_type": "stream",
     "text": [
      "127.0.0.1 - - [01/Aug/2024 19:54:16] \"OPTIONS /predict HTTP/1.1\" 200 -\n",
      "127.0.0.1 - - [01/Aug/2024 19:54:16] \"POST /predict HTTP/1.1\" 200 -\n"
     ]
    },
    {
     "name": "stdout",
     "output_type": "stream",
     "text": [
      "<class 'pandas.core.frame.DataFrame'>\n",
      "   weight  height\n",
      "0     0.6     1.7\n",
      "[[0.29512816 0.26873518 0.05559285 0.17377619 0.43317143 0.57049048\n",
      "  0.40854703 0.96028619]]\n",
      "{'chest': 30, 'waist': 27, 'hem': 6, 'thigh': 17, 'shoulder': 43, 'arm': 57, 'top': 41, 'bottom': 96}\n",
      "<Response 87 bytes [200 OK]>\n"
     ]
    },
    {
     "name": "stderr",
     "output_type": "stream",
     "text": [
      "127.0.0.1 - - [01/Aug/2024 19:54:25] \"OPTIONS /predict HTTP/1.1\" 200 -\n",
      "127.0.0.1 - - [01/Aug/2024 19:54:25] \"POST /predict HTTP/1.1\" 200 -\n"
     ]
    },
    {
     "name": "stdout",
     "output_type": "stream",
     "text": [
      "<class 'pandas.core.frame.DataFrame'>\n",
      "   weight  height\n",
      "0     0.6     1.7\n",
      "[[0.29512816 0.26873518 0.05559285 0.17377619 0.43317143 0.57049048\n",
      "  0.40854703 0.96028619]]\n",
      "{'chest': 30, 'waist': 27, 'hem': 6, 'thigh': 17, 'shoulder': 43, 'arm': 57, 'top': 41, 'bottom': 96}\n",
      "<Response 87 bytes [200 OK]>\n"
     ]
    },
    {
     "name": "stderr",
     "output_type": "stream",
     "text": [
      "127.0.0.1 - - [01/Aug/2024 19:54:32] \"OPTIONS /predict HTTP/1.1\" 200 -\n",
      "127.0.0.1 - - [01/Aug/2024 19:54:32] \"POST /predict HTTP/1.1\" 200 -\n"
     ]
    },
    {
     "name": "stdout",
     "output_type": "stream",
     "text": [
      "<class 'pandas.core.frame.DataFrame'>\n",
      "   weight  height\n",
      "0     0.6     1.7\n",
      "[[0.29512816 0.26873518 0.05559285 0.17377619 0.43317143 0.57049048\n",
      "  0.40854703 0.96028619]]\n",
      "{'chest': 30, 'waist': 27, 'hem': 6, 'thigh': 17, 'shoulder': 43, 'arm': 57, 'top': 41, 'bottom': 96}\n",
      "<Response 87 bytes [200 OK]>\n"
     ]
    },
    {
     "name": "stderr",
     "output_type": "stream",
     "text": [
      "127.0.0.1 - - [01/Aug/2024 19:54:41] \"OPTIONS /predict HTTP/1.1\" 200 -\n",
      "127.0.0.1 - - [01/Aug/2024 19:54:41] \"POST /predict HTTP/1.1\" 200 -\n"
     ]
    },
    {
     "name": "stdout",
     "output_type": "stream",
     "text": [
      "<class 'pandas.core.frame.DataFrame'>\n",
      "   weight  height\n",
      "0     0.6     1.7\n",
      "[[0.29512816 0.26873518 0.05559285 0.17377619 0.43317143 0.57049048\n",
      "  0.40854703 0.96028619]]\n",
      "{'chest': 30, 'waist': 27, 'hem': 6, 'thigh': 17, 'shoulder': 43, 'arm': 57, 'top': 41, 'bottom': 96}\n",
      "<Response 87 bytes [200 OK]>\n"
     ]
    },
    {
     "name": "stderr",
     "output_type": "stream",
     "text": [
      "127.0.0.1 - - [01/Aug/2024 19:54:47] \"OPTIONS /predict HTTP/1.1\" 200 -\n",
      "127.0.0.1 - - [01/Aug/2024 19:54:47] \"POST /predict HTTP/1.1\" 200 -\n"
     ]
    },
    {
     "name": "stdout",
     "output_type": "stream",
     "text": [
      "<class 'pandas.core.frame.DataFrame'>\n",
      "   weight  height\n",
      "0     0.6     1.7\n",
      "[[0.29512816 0.26873518 0.05559285 0.17377619 0.43317143 0.57049048\n",
      "  0.40854703 0.96028619]]\n",
      "{'chest': 30, 'waist': 27, 'hem': 6, 'thigh': 17, 'shoulder': 43, 'arm': 57, 'top': 41, 'bottom': 96}\n",
      "<Response 87 bytes [200 OK]>\n"
     ]
    },
    {
     "name": "stderr",
     "output_type": "stream",
     "text": [
      "127.0.0.1 - - [01/Aug/2024 20:07:03] \"OPTIONS /predict HTTP/1.1\" 200 -\n",
      "127.0.0.1 - - [01/Aug/2024 20:07:03] \"POST /predict HTTP/1.1\" 200 -\n"
     ]
    },
    {
     "name": "stdout",
     "output_type": "stream",
     "text": [
      "<class 'pandas.core.frame.DataFrame'>\n",
      "   weight  height\n",
      "0     0.6     1.7\n",
      "[[0.29512816 0.26873518 0.05559285 0.17377619 0.43317143 0.57049048\n",
      "  0.40854703 0.96028619]]\n",
      "{'chest': 30, 'waist': 27, 'hem': 6, 'thigh': 17, 'shoulder': 43, 'arm': 57, 'top': 41, 'bottom': 96}\n",
      "<Response 87 bytes [200 OK]>\n"
     ]
    },
    {
     "name": "stderr",
     "output_type": "stream",
     "text": [
      "127.0.0.1 - - [01/Aug/2024 20:07:07] \"POST /predict HTTP/1.1\" 200 -\n"
     ]
    },
    {
     "name": "stdout",
     "output_type": "stream",
     "text": [
      "<class 'pandas.core.frame.DataFrame'>\n",
      "   weight  height\n",
      "0     0.6     1.7\n",
      "[[0.29512816 0.26873518 0.05559285 0.17377619 0.43317143 0.57049048\n",
      "  0.40854703 0.96028619]]\n",
      "{'chest': 30, 'waist': 27, 'hem': 6, 'thigh': 17, 'shoulder': 43, 'arm': 57, 'top': 41, 'bottom': 96}\n",
      "<Response 87 bytes [200 OK]>\n"
     ]
    },
    {
     "name": "stderr",
     "output_type": "stream",
     "text": [
      "127.0.0.1 - - [01/Aug/2024 20:07:09] \"OPTIONS /predict HTTP/1.1\" 200 -\n",
      "127.0.0.1 - - [01/Aug/2024 20:07:09] \"POST /predict HTTP/1.1\" 200 -\n"
     ]
    },
    {
     "name": "stdout",
     "output_type": "stream",
     "text": [
      "<class 'pandas.core.frame.DataFrame'>\n",
      "   weight  height\n",
      "0     0.6     1.7\n",
      "[[0.29512816 0.26873518 0.05559285 0.17377619 0.43317143 0.57049048\n",
      "  0.40854703 0.96028619]]\n",
      "{'chest': 30, 'waist': 27, 'hem': 6, 'thigh': 17, 'shoulder': 43, 'arm': 57, 'top': 41, 'bottom': 96}\n",
      "<Response 87 bytes [200 OK]>\n"
     ]
    },
    {
     "name": "stderr",
     "output_type": "stream",
     "text": [
      "127.0.0.1 - - [01/Aug/2024 20:07:16] \"OPTIONS /predict HTTP/1.1\" 200 -\n",
      "127.0.0.1 - - [01/Aug/2024 20:07:16] \"POST /predict HTTP/1.1\" 200 -\n"
     ]
    },
    {
     "name": "stdout",
     "output_type": "stream",
     "text": [
      "<class 'pandas.core.frame.DataFrame'>\n",
      "   weight  height\n",
      "0     0.6     1.7\n",
      "[[0.29512816 0.26873518 0.05559285 0.17377619 0.43317143 0.57049048\n",
      "  0.40854703 0.96028619]]\n",
      "{'chest': 30, 'waist': 27, 'hem': 6, 'thigh': 17, 'shoulder': 43, 'arm': 57, 'top': 41, 'bottom': 96}\n",
      "<Response 87 bytes [200 OK]>\n"
     ]
    },
    {
     "name": "stderr",
     "output_type": "stream",
     "text": [
      "127.0.0.1 - - [01/Aug/2024 20:07:17] \"POST /predict HTTP/1.1\" 200 -\n"
     ]
    },
    {
     "name": "stdout",
     "output_type": "stream",
     "text": [
      "<class 'pandas.core.frame.DataFrame'>\n",
      "   weight  height\n",
      "0     0.6     1.7\n",
      "[[0.29512816 0.26873518 0.05559285 0.17377619 0.43317143 0.57049048\n",
      "  0.40854703 0.96028619]]\n",
      "{'chest': 30, 'waist': 27, 'hem': 6, 'thigh': 17, 'shoulder': 43, 'arm': 57, 'top': 41, 'bottom': 96}\n",
      "<Response 87 bytes [200 OK]>\n"
     ]
    },
    {
     "name": "stderr",
     "output_type": "stream",
     "text": [
      "127.0.0.1 - - [01/Aug/2024 20:27:24] \"OPTIONS /predict HTTP/1.1\" 200 -\n",
      "127.0.0.1 - - [01/Aug/2024 20:27:24] \"POST /predict HTTP/1.1\" 200 -\n"
     ]
    },
    {
     "name": "stdout",
     "output_type": "stream",
     "text": [
      "<class 'pandas.core.frame.DataFrame'>\n",
      "   weight  height\n",
      "0     0.6     1.7\n",
      "[[0.29512816 0.26873518 0.05559285 0.17377619 0.43317143 0.57049048\n",
      "  0.40854703 0.96028619]]\n",
      "{'chest': 30, 'waist': 27, 'hem': 6, 'thigh': 17, 'shoulder': 43, 'arm': 57, 'top': 41, 'bottom': 96}\n",
      "<Response 87 bytes [200 OK]>\n"
     ]
    },
    {
     "name": "stderr",
     "output_type": "stream",
     "text": [
      "127.0.0.1 - - [01/Aug/2024 21:46:14] \"OPTIONS /predict HTTP/1.1\" 200 -\n",
      "127.0.0.1 - - [01/Aug/2024 21:46:14] \"POST /predict HTTP/1.1\" 200 -\n"
     ]
    },
    {
     "name": "stdout",
     "output_type": "stream",
     "text": [
      "<class 'pandas.core.frame.DataFrame'>\n",
      "   weight  height\n",
      "0     0.6     1.7\n",
      "[[0.29512816 0.26873518 0.05559285 0.17377619 0.43317143 0.57049048\n",
      "  0.40854703 0.96028619]]\n",
      "{'chest': 30, 'waist': 27, 'hem': 6, 'thigh': 17, 'shoulder': 43, 'arm': 57, 'top': 41, 'bottom': 96}\n",
      "<Response 87 bytes [200 OK]>\n"
     ]
    },
    {
     "name": "stderr",
     "output_type": "stream",
     "text": [
      "127.0.0.1 - - [01/Aug/2024 21:46:20] \"OPTIONS /predict HTTP/1.1\" 200 -\n",
      "127.0.0.1 - - [01/Aug/2024 21:46:20] \"POST /predict HTTP/1.1\" 200 -\n"
     ]
    },
    {
     "name": "stdout",
     "output_type": "stream",
     "text": [
      "<class 'pandas.core.frame.DataFrame'>\n",
      "   weight  height\n",
      "0     0.6     1.7\n",
      "[[0.29512816 0.26873518 0.05559285 0.17377619 0.43317143 0.57049048\n",
      "  0.40854703 0.96028619]]\n",
      "{'chest': 30, 'waist': 27, 'hem': 6, 'thigh': 17, 'shoulder': 43, 'arm': 57, 'top': 41, 'bottom': 96}\n",
      "<Response 87 bytes [200 OK]>\n"
     ]
    },
    {
     "name": "stderr",
     "output_type": "stream",
     "text": [
      "127.0.0.1 - - [01/Aug/2024 21:47:05] \"OPTIONS /predict HTTP/1.1\" 200 -\n",
      "127.0.0.1 - - [01/Aug/2024 21:47:06] \"POST /predict HTTP/1.1\" 200 -\n"
     ]
    },
    {
     "name": "stdout",
     "output_type": "stream",
     "text": [
      "<class 'pandas.core.frame.DataFrame'>\n",
      "   weight  height\n",
      "0     0.6     1.7\n",
      "[[0.29512816 0.26873518 0.05559285 0.17377619 0.43317143 0.57049048\n",
      "  0.40854703 0.96028619]]\n",
      "{'chest': 30, 'waist': 27, 'hem': 6, 'thigh': 17, 'shoulder': 43, 'arm': 57, 'top': 41, 'bottom': 96}\n",
      "<Response 87 bytes [200 OK]>\n"
     ]
    },
    {
     "name": "stderr",
     "output_type": "stream",
     "text": [
      "127.0.0.1 - - [01/Aug/2024 21:47:54] \"OPTIONS /predict HTTP/1.1\" 200 -\n",
      "127.0.0.1 - - [01/Aug/2024 21:47:55] \"POST /predict HTTP/1.1\" 200 -\n"
     ]
    },
    {
     "name": "stdout",
     "output_type": "stream",
     "text": [
      "<class 'pandas.core.frame.DataFrame'>\n",
      "   weight  height\n",
      "0     0.6     1.7\n",
      "[[0.29512816 0.26873518 0.05559285 0.17377619 0.43317143 0.57049048\n",
      "  0.40854703 0.96028619]]\n",
      "{'chest': 30, 'waist': 27, 'hem': 6, 'thigh': 17, 'shoulder': 43, 'arm': 57, 'top': 41, 'bottom': 96}\n",
      "<Response 87 bytes [200 OK]>\n"
     ]
    },
    {
     "name": "stderr",
     "output_type": "stream",
     "text": [
      "127.0.0.1 - - [01/Aug/2024 21:48:46] \"OPTIONS /predict HTTP/1.1\" 200 -\n",
      "127.0.0.1 - - [01/Aug/2024 21:48:46] \"POST /predict HTTP/1.1\" 200 -\n"
     ]
    },
    {
     "name": "stdout",
     "output_type": "stream",
     "text": [
      "<class 'pandas.core.frame.DataFrame'>\n",
      "   weight  height\n",
      "0     0.6     1.7\n",
      "[[0.29512816 0.26873518 0.05559285 0.17377619 0.43317143 0.57049048\n",
      "  0.40854703 0.96028619]]\n",
      "{'chest': 30, 'waist': 27, 'hem': 6, 'thigh': 17, 'shoulder': 43, 'arm': 57, 'top': 41, 'bottom': 96}\n",
      "<Response 87 bytes [200 OK]>\n"
     ]
    },
    {
     "name": "stderr",
     "output_type": "stream",
     "text": [
      "127.0.0.1 - - [01/Aug/2024 21:48:53] \"OPTIONS /predict HTTP/1.1\" 200 -\n",
      "127.0.0.1 - - [01/Aug/2024 21:48:54] \"POST /predict HTTP/1.1\" 200 -\n"
     ]
    },
    {
     "name": "stdout",
     "output_type": "stream",
     "text": [
      "<class 'pandas.core.frame.DataFrame'>\n",
      "   weight  height\n",
      "0     0.6     1.7\n",
      "[[0.29512816 0.26873518 0.05559285 0.17377619 0.43317143 0.57049048\n",
      "  0.40854703 0.96028619]]\n",
      "{'chest': 30, 'waist': 27, 'hem': 6, 'thigh': 17, 'shoulder': 43, 'arm': 57, 'top': 41, 'bottom': 96}\n",
      "<Response 87 bytes [200 OK]>\n"
     ]
    },
    {
     "name": "stderr",
     "output_type": "stream",
     "text": [
      "127.0.0.1 - - [01/Aug/2024 21:50:11] \"OPTIONS /predict HTTP/1.1\" 200 -\n",
      "127.0.0.1 - - [01/Aug/2024 21:50:11] \"POST /predict HTTP/1.1\" 200 -\n"
     ]
    },
    {
     "name": "stdout",
     "output_type": "stream",
     "text": [
      "<class 'pandas.core.frame.DataFrame'>\n",
      "   weight  height\n",
      "0     0.6     1.7\n",
      "[[0.29512816 0.26873518 0.05559285 0.17377619 0.43317143 0.57049048\n",
      "  0.40854703 0.96028619]]\n",
      "{'chest': 30, 'waist': 27, 'hem': 6, 'thigh': 17, 'shoulder': 43, 'arm': 57, 'top': 41, 'bottom': 96}\n",
      "<Response 87 bytes [200 OK]>\n"
     ]
    },
    {
     "name": "stderr",
     "output_type": "stream",
     "text": [
      "127.0.0.1 - - [01/Aug/2024 21:50:44] \"OPTIONS /predict HTTP/1.1\" 200 -\n",
      "127.0.0.1 - - [01/Aug/2024 21:50:44] \"POST /predict HTTP/1.1\" 200 -\n"
     ]
    },
    {
     "name": "stdout",
     "output_type": "stream",
     "text": [
      "<class 'pandas.core.frame.DataFrame'>\n",
      "   weight  height\n",
      "0     0.6     1.7\n",
      "[[0.29512816 0.26873518 0.05559285 0.17377619 0.43317143 0.57049048\n",
      "  0.40854703 0.96028619]]\n",
      "{'chest': 30, 'waist': 27, 'hem': 6, 'thigh': 17, 'shoulder': 43, 'arm': 57, 'top': 41, 'bottom': 96}\n",
      "<Response 87 bytes [200 OK]>\n"
     ]
    },
    {
     "name": "stderr",
     "output_type": "stream",
     "text": [
      "127.0.0.1 - - [01/Aug/2024 21:56:22] \"OPTIONS /predict HTTP/1.1\" 200 -\n",
      "127.0.0.1 - - [01/Aug/2024 21:56:22] \"POST /predict HTTP/1.1\" 200 -\n"
     ]
    },
    {
     "name": "stdout",
     "output_type": "stream",
     "text": [
      "<class 'pandas.core.frame.DataFrame'>\n",
      "   weight  height\n",
      "0     0.6     1.7\n",
      "[[0.29512816 0.26873518 0.05559285 0.17377619 0.43317143 0.57049048\n",
      "  0.40854703 0.96028619]]\n",
      "{'chest': 30, 'waist': 27, 'hem': 6, 'thigh': 17, 'shoulder': 43, 'arm': 57, 'top': 41, 'bottom': 96}\n",
      "<Response 87 bytes [200 OK]>\n"
     ]
    },
    {
     "name": "stderr",
     "output_type": "stream",
     "text": [
      "127.0.0.1 - - [01/Aug/2024 21:56:53] \"OPTIONS /predict HTTP/1.1\" 200 -\n",
      "127.0.0.1 - - [01/Aug/2024 21:56:53] \"POST /predict HTTP/1.1\" 200 -\n"
     ]
    },
    {
     "name": "stdout",
     "output_type": "stream",
     "text": [
      "<class 'pandas.core.frame.DataFrame'>\n",
      "   weight  height\n",
      "0     0.6     1.7\n",
      "[[0.29512816 0.26873518 0.05559285 0.17377619 0.43317143 0.57049048\n",
      "  0.40854703 0.96028619]]\n",
      "{'chest': 30, 'waist': 27, 'hem': 6, 'thigh': 17, 'shoulder': 43, 'arm': 57, 'top': 41, 'bottom': 96}\n",
      "<Response 87 bytes [200 OK]>\n"
     ]
    }
   ],
   "source": [
    "from flask import Flask, jsonify, request\n",
    "import pandas as pd\n",
    "import joblib\n",
    "from flask_cors import CORS\n",
    "\n",
    "app = Flask(__name__)\n",
    "CORS(app)\n",
    "\n",
    "model = joblib.load('multivariate_linear_regression_model.pkl')\n",
    "\n",
    "print(model)\n",
    "\n",
    "@app.route('/predict', methods=['POST'])\n",
    "def predict():\n",
    "\n",
    "    data = request.get_json()\n",
    "\n",
    "    input_data = pd.DataFrame(data, index=[0])\n",
    "\n",
    "    input_data = input_data.apply(pd.to_numeric, errors='coerce')\n",
    "\n",
    "    input_data = input_data / 100\n",
    "\n",
    "    print(type(input_data))\n",
    "    print(input_data)\n",
    "    X_cols = ['height', 'weight']\n",
    "    \n",
    "    prediction = model.predict(input_data[X_cols])\n",
    "\n",
    "    print(prediction)\n",
    "\n",
    "    Y_cols = ['chest', 'waist', 'hem', 'thigh', 'shoulder', 'arm', 'top', 'bottom']\n",
    "    output = {Y_cols[i]: round(prediction[0][i] * 100) for i in range(len(Y_cols))}\n",
    "    \n",
    "    print(output)\n",
    "    print(jsonify(output))\n",
    "\n",
    "    return jsonify(output)\n",
    "\n",
    "if __name__ == '__main__':\n",
    "    app.run(port=5000, debug=False)"
   ]
  },
  {
   "cell_type": "code",
   "execution_count": null,
   "id": "789b04e4-9127-43d2-aa62-5250b7b9c501",
   "metadata": {},
   "outputs": [],
   "source": []
  }
 ],
 "metadata": {
  "kernelspec": {
   "display_name": "Python 3 (ipykernel)",
   "language": "python",
   "name": "python3"
  },
  "language_info": {
   "codemirror_mode": {
    "name": "ipython",
    "version": 3
   },
   "file_extension": ".py",
   "mimetype": "text/x-python",
   "name": "python",
   "nbconvert_exporter": "python",
   "pygments_lexer": "ipython3",
   "version": "3.9.19"
  }
 },
 "nbformat": 4,
 "nbformat_minor": 5
}
