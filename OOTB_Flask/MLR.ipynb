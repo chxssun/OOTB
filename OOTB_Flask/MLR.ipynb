{
 "cells": [
  {
   "cell_type": "code",
   "execution_count": 4,
   "id": "0a0f97b3-97c3-4b03-a7fe-e2b2f6a22774",
   "metadata": {
    "scrolled": true
   },
   "outputs": [],
   "source": [
    "# pip install flask-cors"
   ]
  },
  {
   "cell_type": "code",
   "execution_count": 5,
   "id": "50132010",
   "metadata": {},
   "outputs": [],
   "source": [
    "# pip install openpyxl"
   ]
  },
  {
   "cell_type": "code",
   "execution_count": 6,
   "id": "b7288218-b466-49cd-819c-f953319254a6",
   "metadata": {},
   "outputs": [
    {
     "data": {
      "text/plain": [
       "['multivariate_linear_regression_model.pkl']"
      ]
     },
     "execution_count": 6,
     "metadata": {},
     "output_type": "execute_result"
    }
   ],
   "source": [
    "import pandas as pd\n",
    "from sklearn.linear_model import LinearRegression\n",
    "import joblib\n",
    "import sqlite3\n",
    "\n",
    "df = pd.read_excel(\"./최종데이터.xlsx\")\n",
    "\n",
    "df = df/100\n",
    "\n",
    "X_cols = ['height', 'weight']  # 독립 변수들\n",
    "Y_cols = ['chest', 'waist', 'hem', 'thigh', 'shoulder', 'arm', 'top', 'bottom']  # 종속 변수들\n",
    "\n",
    "X = df[X_cols]  # 독립 변수 데이터\n",
    "Y = df[Y_cols]  # 종속 변수 데이터\n",
    "\n",
    "# 다변량 선형 회귀 모델 정의 및 학습\n",
    "model = LinearRegression()\n",
    "model.fit(X, Y)\n",
    "\n",
    "# 학습한 모델 저장\n",
    "joblib.dump(model, 'multivariate_linear_regression_model.pkl')"
   ]
  },
  {
   "cell_type": "code",
   "execution_count": 7,
   "id": "b75f8e28",
   "metadata": {},
   "outputs": [
    {
     "name": "stdout",
     "output_type": "stream",
     "text": [
      "Requirement already satisfied: pandas in c:\\users\\chxss\\appdata\\local\\programs\\python\\python312\\lib\\site-packages (2.2.2)\n",
      "Requirement already satisfied: numpy>=1.26.0 in c:\\users\\chxss\\appdata\\local\\programs\\python\\python312\\lib\\site-packages (from pandas) (1.26.4)\n",
      "Requirement already satisfied: python-dateutil>=2.8.2 in c:\\users\\chxss\\appdata\\local\\programs\\python\\python312\\lib\\site-packages (from pandas) (2.9.0.post0)\n",
      "Requirement already satisfied: pytz>=2020.1 in c:\\users\\chxss\\appdata\\local\\programs\\python\\python312\\lib\\site-packages (from pandas) (2024.1)\n",
      "Requirement already satisfied: tzdata>=2022.7 in c:\\users\\chxss\\appdata\\local\\programs\\python\\python312\\lib\\site-packages (from pandas) (2024.1)\n",
      "Requirement already satisfied: six>=1.5 in c:\\users\\chxss\\appdata\\local\\programs\\python\\python312\\lib\\site-packages (from python-dateutil>=2.8.2->pandas) (1.16.0)\n",
      "Note: you may need to restart the kernel to use updated packages.\n"
     ]
    },
    {
     "name": "stderr",
     "output_type": "stream",
     "text": [
      "\n",
      "[notice] A new release of pip is available: 24.0 -> 24.2\n",
      "[notice] To update, run: python.exe -m pip install --upgrade pip\n"
     ]
    }
   ],
   "source": [
    "# pip install pandas"
   ]
  },
  {
   "cell_type": "code",
   "execution_count": 8,
   "id": "e4acaeed",
   "metadata": {},
   "outputs": [
    {
     "name": "stdout",
     "output_type": "stream",
     "text": [
      "Requirement already satisfied: joblib in c:\\users\\chxss\\appdata\\local\\programs\\python\\python312\\lib\\site-packages (1.4.2)\n",
      "Note: you may need to restart the kernel to use updated packages.\n"
     ]
    },
    {
     "name": "stderr",
     "output_type": "stream",
     "text": [
      "\n",
      "[notice] A new release of pip is available: 24.0 -> 24.2\n",
      "[notice] To update, run: python.exe -m pip install --upgrade pip\n"
     ]
    }
   ],
   "source": [
    "# pip install joblib"
   ]
  },
  {
   "cell_type": "code",
   "execution_count": 9,
   "id": "fa5d124f",
   "metadata": {},
   "outputs": [
    {
     "name": "stdout",
     "output_type": "stream",
     "text": [
      "Requirement already satisfied: scikit-learn in c:\\users\\chxss\\appdata\\local\\programs\\python\\python312\\lib\\site-packages (1.5.1)\n",
      "Requirement already satisfied: numpy>=1.19.5 in c:\\users\\chxss\\appdata\\local\\programs\\python\\python312\\lib\\site-packages (from scikit-learn) (1.26.4)\n",
      "Requirement already satisfied: scipy>=1.6.0 in c:\\users\\chxss\\appdata\\local\\programs\\python\\python312\\lib\\site-packages (from scikit-learn) (1.14.0)\n",
      "Requirement already satisfied: joblib>=1.2.0 in c:\\users\\chxss\\appdata\\local\\programs\\python\\python312\\lib\\site-packages (from scikit-learn) (1.4.2)\n",
      "Requirement already satisfied: threadpoolctl>=3.1.0 in c:\\users\\chxss\\appdata\\local\\programs\\python\\python312\\lib\\site-packages (from scikit-learn) (3.5.0)\n",
      "Note: you may need to restart the kernel to use updated packages.\n"
     ]
    },
    {
     "name": "stderr",
     "output_type": "stream",
     "text": [
      "\n",
      "[notice] A new release of pip is available: 24.0 -> 24.2\n",
      "[notice] To update, run: python.exe -m pip install --upgrade pip\n"
     ]
    }
   ],
   "source": [
    "# pip install scikit-learn"
   ]
  },
  {
   "cell_type": "code",
   "execution_count": 10,
   "id": "ce56d8e6-a2d6-4824-ba82-2a934879216f",
   "metadata": {},
   "outputs": [
    {
     "name": "stdout",
     "output_type": "stream",
     "text": [
      "LinearRegression()\n",
      " * Serving Flask app '__main__'\n",
      " * Debug mode: off\n"
     ]
    },
    {
     "name": "stderr",
     "output_type": "stream",
     "text": [
      "WARNING: This is a development server. Do not use it in a production deployment. Use a production WSGI server instead.\n",
      " * Running on http://127.0.0.1:5000\n",
      "Press CTRL+C to quit\n"
     ]
    }
   ],
   "source": [
    "from flask import Flask, jsonify, request\n",
    "import pandas as pd\n",
    "import joblib\n",
    "from flask_cors import CORS\n",
    "\n",
    "app = Flask(__name__)\n",
    "CORS(app)\n",
    "\n",
    "model = joblib.load('multivariate_linear_regression_model.pkl')\n",
    "\n",
    "print(model)\n",
    "\n",
    "@app.route('/predict', methods=['POST'])\n",
    "def predict():\n",
    "\n",
    "    data = request.get_json()\n",
    "\n",
    "    input_data = pd.DataFrame(data, index=[0])\n",
    "\n",
    "    input_data = input_data.apply(pd.to_numeric, errors='coerce')\n",
    "\n",
    "    input_data = input_data / 100\n",
    "\n",
    "    print(type(input_data))\n",
    "    print(input_data)\n",
    "    X_cols = ['height', 'weight']\n",
    "    \n",
    "    prediction = model.predict(input_data[X_cols])\n",
    "\n",
    "    print(prediction)\n",
    "\n",
    "    Y_cols = ['chest', 'waist', 'hem', 'thigh', 'shoulder', 'arm', 'top', 'bottom']\n",
    "    output = {Y_cols[i]: round(prediction[0][i] * 100) for i in range(len(Y_cols))}\n",
    "    \n",
    "    print(output)\n",
    "    print(jsonify(output))\n",
    "\n",
    "    return jsonify(output)\n",
    "\n",
    "if __name__ == '__main__':\n",
    "    app.run(port=5000, debug=False)"
   ]
  },
  {
   "cell_type": "code",
   "execution_count": null,
   "id": "789b04e4-9127-43d2-aa62-5250b7b9c501",
   "metadata": {},
   "outputs": [],
   "source": []
  }
 ],
 "metadata": {
  "kernelspec": {
   "display_name": "Python 3 (ipykernel)",
   "language": "python",
   "name": "python3"
  },
  "language_info": {
   "codemirror_mode": {
    "name": "ipython",
    "version": 3
   },
   "file_extension": ".py",
   "mimetype": "text/x-python",
   "name": "python",
   "nbconvert_exporter": "python",
   "pygments_lexer": "ipython3",
   "version": "3.12.3"
  }
 },
 "nbformat": 4,
 "nbformat_minor": 5
}
