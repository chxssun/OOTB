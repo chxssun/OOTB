{
 "cells": [
  {
   "cell_type": "code",
   "execution_count": 1,
   "id": "0a0f97b3-97c3-4b03-a7fe-e2b2f6a22774",
   "metadata": {
    "scrolled": true
   },
   "outputs": [
    {
     "name": "stdout",
     "output_type": "stream",
     "text": [
      "Collecting flask-cors\n",
      "  Downloading Flask_Cors-4.0.1-py2.py3-none-any.whl.metadata (5.5 kB)\n",
      "Requirement already satisfied: Flask>=0.9 in c:\\users\\user\\anaconda3\\lib\\site-packages (from flask-cors) (2.2.5)\n",
      "Requirement already satisfied: Werkzeug>=2.2.2 in c:\\users\\user\\anaconda3\\lib\\site-packages (from Flask>=0.9->flask-cors) (2.2.3)\n",
      "Requirement already satisfied: Jinja2>=3.0 in c:\\users\\user\\anaconda3\\lib\\site-packages (from Flask>=0.9->flask-cors) (3.1.3)\n",
      "Requirement already satisfied: itsdangerous>=2.0 in c:\\users\\user\\anaconda3\\lib\\site-packages (from Flask>=0.9->flask-cors) (2.0.1)\n",
      "Requirement already satisfied: click>=8.0 in c:\\users\\user\\anaconda3\\lib\\site-packages (from Flask>=0.9->flask-cors) (8.1.7)\n",
      "Requirement already satisfied: colorama in c:\\users\\user\\anaconda3\\lib\\site-packages (from click>=8.0->Flask>=0.9->flask-cors) (0.4.6)\n",
      "Requirement already satisfied: MarkupSafe>=2.0 in c:\\users\\user\\anaconda3\\lib\\site-packages (from Jinja2>=3.0->Flask>=0.9->flask-cors) (2.1.3)\n",
      "Downloading Flask_Cors-4.0.1-py2.py3-none-any.whl (14 kB)\n",
      "Installing collected packages: flask-cors\n",
      "Successfully installed flask-cors-4.0.1\n",
      "Note: you may need to restart the kernel to use updated packages.\n"
     ]
    }
   ],
   "source": [
    "pip install flask-cors"
   ]
  },
  {
   "cell_type": "code",
   "execution_count": 3,
   "id": "b7288218-b466-49cd-819c-f953319254a6",
   "metadata": {},
   "outputs": [
    {
     "data": {
      "text/plain": [
       "['multivariate_linear_regression_model.pkl']"
      ]
     },
     "execution_count": 3,
     "metadata": {},
     "output_type": "execute_result"
    }
   ],
   "source": [
    "import pandas as pd\n",
    "from sklearn.linear_model import LinearRegression\n",
    "import joblib\n",
    "import sqlite3\n",
    "\n",
    "df = pd.read_excel(\"./최종데이터.xlsx\")\n",
    "\n",
    "df = df/100\n",
    "\n",
    "X_cols = ['height', 'weight']  # 독립 변수들\n",
    "Y_cols = ['chest', 'waist', 'hem', 'thigh', 'shoulder', 'arm', 'top', 'bottom']  # 종속 변수들\n",
    "\n",
    "X = df[X_cols]  # 독립 변수 데이터\n",
    "Y = df[Y_cols]  # 종속 변수 데이터\n",
    "\n",
    "# 다변량 선형 회귀 모델 정의 및 학습\n",
    "model = LinearRegression()\n",
    "model.fit(X, Y)\n",
    "\n",
    "# 학습한 모델 저장\n",
    "joblib.dump(model, 'multivariate_linear_regression_model.pkl')"
   ]
  },
  {
   "cell_type": "code",
   "execution_count": 1,
   "id": "ce56d8e6-a2d6-4824-ba82-2a934879216f",
   "metadata": {},
   "outputs": [
    {
     "name": "stdout",
     "output_type": "stream",
     "text": [
      "LinearRegression()\n",
      " * Serving Flask app '__main__'\n",
      " * Debug mode: off\n"
     ]
    },
    {
     "name": "stderr",
     "output_type": "stream",
     "text": [
      "WARNING: This is a development server. Do not use it in a production deployment. Use a production WSGI server instead.\n",
      " * Running on http://127.0.0.1:5000\n",
      "Press CTRL+C to quit\n",
      "127.0.0.1 - - [30/Jul/2024 17:54:49] \"OPTIONS /predict HTTP/1.1\" 200 -\n",
      "127.0.0.1 - - [30/Jul/2024 17:54:50] \"POST /predict HTTP/1.1\" 200 -\n"
     ]
    },
    {
     "name": "stdout",
     "output_type": "stream",
     "text": [
      "<class 'pandas.core.frame.DataFrame'>\n",
      "   weight  height\n",
      "0     0.9     1.7\n",
      "[[1.10570674 0.57852262 1.01142943 0.41744381 0.9572716  0.45105897\n",
      "  0.6546606 ]]\n",
      "{'chest': 111, 'arm': 58, 'waist': 101, 'top': 42, 'bottom': 96, 'shoulder': 45, 'thigh': 65}\n",
      "<Response 81 bytes [200 OK]>\n"
     ]
    }
   ],
   "source": [
    "from flask import Flask, jsonify, request\n",
    "import pandas as pd\n",
    "import joblib\n",
    "from flask_cors import CORS\n",
    "\n",
    "app = Flask(__name__)\n",
    "CORS(app)\n",
    "\n",
    "model = joblib.load('multivariate_linear_regression_model.pkl')\n",
    "\n",
    "print(model)\n",
    "\n",
    "@app.route('/predict', methods=['POST'])\n",
    "def predict():\n",
    "\n",
    "    data = request.get_json()\n",
    "\n",
    "    input_data = pd.DataFrame(data, index=[0])\n",
    "\n",
    "    input_data = input_data.apply(pd.to_numeric, errors='coerce')\n",
    "\n",
    "    input_data = input_data / 100\n",
    "\n",
    "    print(type(input_data))\n",
    "    print(input_data)\n",
    "    X_cols = ['height', 'weight']\n",
    "    \n",
    "    prediction = model.predict(input_data[X_cols])\n",
    "\n",
    "    print(prediction)\n",
    "\n",
    "    Y_cols = ['chest', 'waist', 'hem', 'thigh', 'shoulder', 'arm', 'top', 'bottom']\n",
    "    output = {Y_cols[i]: round(prediction[0][i] * 100) for i in range(len(Y_cols))}\n",
    "    \n",
    "    print(output)\n",
    "    print(jsonify(output))\n",
    "\n",
    "    return jsonify(output)\n",
    "\n",
    "if __name__ == '__main__':\n",
    "    app.run(port=5000, debug=False)"
   ]
  },
  {
   "cell_type": "code",
   "execution_count": null,
   "id": "789b04e4-9127-43d2-aa62-5250b7b9c501",
   "metadata": {},
   "outputs": [],
   "source": []
  }
 ],
 "metadata": {
  "kernelspec": {
   "display_name": "Python 3 (ipykernel)",
   "language": "python",
   "name": "python3"
  },
  "language_info": {
   "codemirror_mode": {
    "name": "ipython",
    "version": 3
   },
   "file_extension": ".py",
   "mimetype": "text/x-python",
   "name": "python",
   "nbconvert_exporter": "python",
   "pygments_lexer": "ipython3",
   "version": "3.11.7"
  }
 },
 "nbformat": 4,
 "nbformat_minor": 5
}
